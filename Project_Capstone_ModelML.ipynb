{
  "nbformat": 4,
  "nbformat_minor": 0,
  "metadata": {
    "colab": {
      "name": "Project_Capstone_ModelML.ipynb",
      "provenance": [],
      "collapsed_sections": [],
      "private_outputs": true,
      "authorship_tag": "ABX9TyNSFeHcLWGglVZoOHuMeJJT",
      "include_colab_link": true
    },
    "kernelspec": {
      "name": "python3",
      "display_name": "Python 3"
    },
    "language_info": {
      "name": "python"
    },
    "accelerator": "GPU"
  },
  "cells": [
    {
      "cell_type": "markdown",
      "metadata": {
        "id": "view-in-github",
        "colab_type": "text"
      },
      "source": [
        "<a href=\"https://colab.research.google.com/github/gananta65/C22-PS237-Capstone-Project/blob/Develop/Project_Capstone_ModelML.ipynb\" target=\"_parent\"><img src=\"https://colab.research.google.com/assets/colab-badge.svg\" alt=\"Open In Colab\"/></a>"
      ]
    },
    {
      "cell_type": "code",
      "execution_count": null,
      "metadata": {
        "id": "dxjknecg1HuD"
      },
      "outputs": [],
      "source": [
        "import matplotlib.pyplot as plt\n",
        "from sklearn.preprocessing import LabelEncoder\n",
        "import cv2\n",
        "from sklearn.model_selection import train_test_split\n",
        "from sklearn.utils import shuffle\n",
        "\n",
        "from tensorflow.keras.models import Sequential\n",
        "from tensorflow.keras.layers import Dense,Dropout,Flatten\n",
        "from tensorflow.keras.layers import Conv2D,MaxPool2D\n",
        "from tensorflow.keras.layers import Input, Dense\n",
        "from tensorflow.keras.utils import to_categorical\n",
        "from tensorflow.keras.models import Model\n",
        "from tensorflow.keras.preprocessing.image import ImageDataGenerator\n",
        "from sklearn.metrics import confusion_matrix\n",
        "import matplotlib.pyplot as plt\n",
        "\n",
        "from tensorflow.keras.applications.vgg16 import VGG16\n",
        "import pandas as pd\n",
        "import numpy as np\n",
        "import os\n",
        "import zipfile\n",
        "from numpy import argmax"
      ]
    },
    {
      "cell_type": "code",
      "source": [
        "#taking file zip dataset in google drive\n",
        "from google.colab import drive\n",
        "drive.mount('/content/gdrive')"
      ],
      "metadata": {
        "id": "DN3c1G7nulFS"
      },
      "execution_count": null,
      "outputs": []
    },
    {
      "cell_type": "code",
      "source": [
        "local_zip = '/content/gdrive/MyDrive/archive.zip'\n",
        "zip_ref = zipfile.ZipFile(local_zip, 'r')\n",
        "zip_ref.extractall()\n",
        "zip_ref.close()"
      ],
      "metadata": {
        "id": "RO0Lk5tl1Zxi"
      },
      "execution_count": null,
      "outputs": []
    },
    {
      "cell_type": "code",
      "source": [
        "PATH = \"/content/Eye_diseases\"\n",
        "data_dir_list = os.listdir(PATH)\n",
        "data_dir_list"
      ],
      "metadata": {
        "id": "JKKPaMy_EbCy"
      },
      "execution_count": null,
      "outputs": []
    },
    {
      "cell_type": "code",
      "source": [
        "img_rows=224\n",
        "img_cols=224\n",
        "num_channel=3\n",
        "\n",
        "num_epoch = 25\n",
        "batch_size = 32\n",
        "\n",
        "img_data_list=[]\n",
        "classes_names_list=[]\n",
        "target_column=[]\n",
        "for dataset in data_dir_list:\n",
        "    classes_names_list.append(dataset)\n",
        "    print(\"Getting image from {} folder\".format(dataset))\n",
        "    img_list= os.listdir(PATH +\"/\"+ dataset)\n",
        "    for img in img_list:\n",
        "        input_img = cv2.imread(PATH +\"/\"+dataset+\"/\"+img)\n",
        "        input_img_resize=cv2.resize(input_img,(img_rows,img_cols))\n",
        "        img_data_list.append(input_img_resize)\n",
        "        target_column.append(dataset)"
      ],
      "metadata": {
        "id": "so1i1_WIiOa3"
      },
      "execution_count": null,
      "outputs": []
    },
    {
      "cell_type": "code",
      "source": [
        "num_classes = len(classes_names_list)\n",
        "print(\"num_classes\",num_classes)\n",
        "img_data = np.array(img_data_list) # convert images in numpy array \n",
        "img_data = img_data.astype('float32')\n",
        "img_data /= 255\n",
        "print(\"Shape of image data\",img_data.shape)\n",
        "num_of_samples = img_data.shape[0]\n",
        "input_shape = img_data[0].shape \n",
        "print(\"number of samples\",num_of_samples)\n",
        "print(\"target column before encoding\",target_column)"
      ],
      "metadata": {
        "id": "0wdOYWqZipjR"
      },
      "execution_count": null,
      "outputs": []
    },
    {
      "cell_type": "code",
      "source": [
        "Labelencoder = LabelEncoder()\n",
        "target_column = Labelencoder.fit_transform(target_column)\n",
        "np.unique(target_column)"
      ],
      "metadata": {
        "id": "CuCkiTCQj2zs"
      },
      "execution_count": null,
      "outputs": []
    },
    {
      "cell_type": "code",
      "source": [
        "target_column_hotcoded = to_categorical(target_column,num_classes)\n",
        "X,Y = shuffle(img_data,target_column_hotcoded,random_state=2)\n",
        "X_train,X_temp,y_train,y_temp = train_test_split(X,Y,test_size=0.3,random_state=2)\n",
        "X_test,X_val,y_test,y_val = train_test_split(X_temp,y_temp,test_size=0.3,random_state=2)"
      ],
      "metadata": {
        "id": "Lowj2r6UhY1f"
      },
      "execution_count": null,
      "outputs": []
    },
    {
      "cell_type": "code",
      "source": [
        "Model = Sequential()\n",
        "\n",
        "Model.add(Conv2D(64,(3,3),activation='relu',input_shape=input_shape))\n",
        "Model.add(Conv2D(64,(3,3),activation='relu'))\n",
        "Model.add(MaxPool2D(pool_size=(2,2)))\n",
        "Model.add(Dropout(0.2))\n",
        "\n",
        "Model.add(Conv2D(128,(3,3),activation='relu'))\n",
        "Model.add(Conv2D(128,(3,3),activation='relu'))\n",
        "Model.add(MaxPool2D(pool_size=(2,2)))\n",
        "Model.add(Dropout(0.2))\n",
        "\n",
        "Model.add(Flatten())\n",
        "Model.add(Dense(128,activation='relu'))\n",
        "Model.add(Dropout(0.2))\n",
        "Model.add(Dense(num_classes,activation='softmax'))\n",
        "Model.compile(loss='categorical_crossentropy',optimizer='adam',metrics=['accuracy'])\n",
        "\n",
        "Model.summary()"
      ],
      "metadata": {
        "id": "ByE37OoyhdyG"
      },
      "execution_count": null,
      "outputs": []
    },
    {
      "cell_type": "code",
      "source": [
        "hist = Model.fit(X_train,y_train,batch_size=batch_size,epochs=num_epoch,verbose=1,validation_data=(X_test,y_test))\n",
        "score = Model.evaluate(X_test,y_test,batch_size=batch_size)\n",
        "print('Test Loss',score[0])\n",
        "print(\"Test Accuracy\",score[1])"
      ],
      "metadata": {
        "id": "GCmwn8D1hxEA"
      },
      "execution_count": null,
      "outputs": []
    }
  ]
}